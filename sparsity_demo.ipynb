{
 "cells": [
  {
   "cell_type": "markdown",
   "id": "1e3635f5",
   "metadata": {},
   "source": [
    "# Sparsity evaluation on different distributions"
   ]
  },
  {
   "cell_type": "code",
   "execution_count": 10,
   "id": "35205a72",
   "metadata": {},
   "outputs": [],
   "source": [
    "import numpy as np\n",
    "from experiments.plot_sparsity import plot_sparsity"
   ]
  },
  {
   "cell_type": "code",
   "execution_count": 30,
   "id": "be12ff08",
   "metadata": {},
   "outputs": [],
   "source": [
    "# first we define the experimental setup\n",
    "\n",
    "# random graph parameters\n",
    "T = 1000 # total number of timesteps \n",
    "d = 10 # number of nodes of the graph\n",
    "n = 100 # number of data samples = number of individual time-sequences \n",
    "sparsity =  0.05\n",
    "threshold = 0.1\n"
   ]
  },
  {
   "cell_type": "code",
   "execution_count": 31,
   "id": "137b7367",
   "metadata": {},
   "outputs": [],
   "source": [
    "# Bernoulli & Uniform distribution\n",
    "pos = np.random.choice([0, 1], size=(n * d * T), p=[1 - sparsity, sparsity]) \n",
    "sign = np.random.choice([-1, 1], size=(n * d * T)) \n",
    "C_bernoulli = pos * np.random.uniform(0.1, 0.4, size=(n * d * T))  * sign\n",
    "\n",
    "std = threshold / 3\n",
    "Nf = np.random.normal(scale=std, size=(n * d * T))\n",
    "C_bernoulli = C_bernoulli + Nf\n",
    "\n",
    "# Gauss distribution\n",
    "sigma = 0.051\n",
    "C_gauss = np.random.normal(scale=sigma, size=(n * d * T))\n",
    "\n",
    "# Laplace distribution\n",
    "beta = threshold / 3\n",
    "C_laplace = np.random.laplace(loc=0, scale=beta, size=(n * d * T))"
   ]
  },
  {
   "cell_type": "markdown",
   "id": "32a490e1",
   "metadata": {},
   "source": [
    "## Population with regard to the threshold "
   ]
  },
  {
   "cell_type": "code",
   "execution_count": 32,
   "id": "8f849a83",
   "metadata": {},
   "outputs": [
    {
     "name": "stdout",
     "output_type": "stream",
     "text": [
      "Sparsity measure Bernoulli\n",
      "0.9501 of values are less than 0.10\n",
      "0.0499 of values are greater than 0.10\n",
      "0.0409 of values are greater than 0.15\n",
      "0.0329 of values are greater than 0.20\n",
      "\n",
      "Sparsity measure Gauss\n",
      "0.9503 of values are less than 0.10\n",
      "0.0497 of values are greater than 0.10\n",
      "0.0032 of values are greater than 0.15\n",
      "0.0001 of values are greater than 0.20\n",
      "\n",
      "Sparsity measure Laplace\n",
      "0.9502 of values are less than 0.10\n",
      "0.0498 of values are greater than 0.10\n",
      "0.0111 of values are greater than 0.15\n",
      "0.0025 of values are greater than 0.20\n"
     ]
    }
   ],
   "source": [
    "all = n * T * d \n",
    "\n",
    "print(\"Sparsity measure Bernoulli\")\n",
    "print(\"{:.4f} of values are less than {:.2f}\".format(np.where(np.abs(C_bernoulli) < threshold, 1, 0).sum() / all, threshold))\n",
    "print(\"{:.4f} of values are greater than {:.2f}\".format(np.where(np.abs(C_bernoulli) > threshold, 1, 0).sum() / all, threshold))\n",
    "print(\"{:.4f} of values are greater than {:.2f}\".format(np.where(np.abs(C_bernoulli) > 1.5 * threshold, 1, 0).sum() / all, 1.5 * threshold))\n",
    "print(\"{:.4f} of values are greater than {:.2f}\\n\".format(np.where(np.abs(C_bernoulli) > 2 * threshold, 1, 0).sum() / all, 2 * threshold))\n",
    "\n",
    "print(\"Sparsity measure Gauss\")\n",
    "print(\"{:.4f} of values are less than {:.2f}\".format(np.where(np.abs(C_gauss) < threshold, 1, 0).sum() / all, threshold))\n",
    "print(\"{:.4f} of values are greater than {:.2f}\".format(np.where(np.abs(C_gauss) > threshold, 1, 0).sum() / all, threshold))\n",
    "print(\"{:.4f} of values are greater than {:.2f}\".format(np.where(np.abs(C_gauss) > 1.5 * threshold, 1, 0).sum() / all, 1.5 * threshold))\n",
    "print(\"{:.4f} of values are greater than {:.2f}\\n\".format(np.where(np.abs(C_gauss) > 2 * threshold, 1, 0).sum() / all, 2 * threshold))\n",
    "\n",
    "print(\"Sparsity measure Laplace\")\n",
    "print(\"{:.4f} of values are less than {:.2f}\".format(np.where(np.abs(C_laplace) < threshold, 1, 0).sum() / all, threshold))\n",
    "print(\"{:.4f} of values are greater than {:.2f}\".format(np.where(np.abs(C_laplace) > threshold, 1, 0).sum() / all, threshold))\n",
    "print(\"{:.4f} of values are greater than {:.2f}\".format(np.where(np.abs(C_laplace) > 1.5 * threshold, 1, 0).sum() / all, 1.5 * threshold))\n",
    "print(\"{:.4f} of values are greater than {:.2f}\".format(np.where(np.abs(C_laplace) > 2 * threshold, 1, 0).sum() / all, 2 * threshold))"
   ]
  },
  {
   "cell_type": "code",
   "execution_count": 33,
   "id": "b55c2a38",
   "metadata": {},
   "outputs": [
    {
     "data": {
      "text/plain": [
       "<Figure size 640x480 with 0 Axes>"
      ]
     },
     "metadata": {},
     "output_type": "display_data"
    },
    {
     "name": "stderr",
     "output_type": "stream",
     "text": [
      "findfont: Font family 'gillsans' not found.\n",
      "findfont: Font family 'gillsans' not found.\n",
      "findfont: Font family 'gillsans' not found.\n",
      "findfont: Font family 'gillsans' not found.\n",
      "findfont: Font family 'gillsans' not found.\n",
      "findfont: Font family 'gillsans' not found.\n",
      "findfont: Font family 'gillsans' not found.\n",
      "findfont: Font family 'gillsans' not found.\n",
      "findfont: Font family 'gillsans' not found.\n",
      "findfont: Font family 'gillsans' not found.\n",
      "findfont: Font family 'gillsans' not found.\n",
      "findfont: Font family 'gillsans' not found.\n",
      "findfont: Font family 'gillsans' not found.\n",
      "findfont: Font family 'gillsans' not found.\n",
      "findfont: Font family 'gillsans' not found.\n",
      "findfont: Font family 'gillsans' not found.\n",
      "findfont: Font family 'gillsans' not found.\n",
      "findfont: Font family 'gillsans' not found.\n",
      "findfont: Font family 'gillsans' not found.\n",
      "findfont: Font family 'gillsans' not found.\n",
      "findfont: Font family 'gillsans' not found.\n",
      "findfont: Font family 'gillsans' not found.\n",
      "findfont: Font family 'gillsans' not found.\n",
      "findfont: Font family 'gillsans' not found.\n",
      "findfont: Font family 'gillsans' not found.\n",
      "findfont: Font family 'gillsans' not found.\n",
      "findfont: Font family 'gillsans' not found.\n",
      "findfont: Font family 'gillsans' not found.\n",
      "findfont: Font family 'gillsans' not found.\n",
      "findfont: Font family 'gillsans' not found.\n",
      "findfont: Font family 'gillsans' not found.\n",
      "findfont: Font family 'gillsans' not found.\n",
      "findfont: Font family 'gillsans' not found.\n",
      "findfont: Font family 'gillsans' not found.\n",
      "findfont: Font family 'gillsans' not found.\n",
      "findfont: Font family 'gillsans' not found.\n",
      "findfont: Font family 'gillsans' not found.\n",
      "findfont: Font family 'gillsans' not found.\n",
      "findfont: Font family 'gillsans' not found.\n",
      "findfont: Font family 'gillsans' not found.\n",
      "findfont: Font family 'gillsans' not found.\n",
      "findfont: Font family 'gillsans' not found.\n",
      "findfont: Font family 'gillsans' not found.\n",
      "findfont: Font family 'gillsans' not found.\n",
      "findfont: Font family 'gillsans' not found.\n",
      "findfont: Font family 'gillsans' not found.\n",
      "findfont: Font family 'gillsans' not found.\n",
      "findfont: Font family 'gillsans' not found.\n",
      "findfont: Font family 'gillsans' not found.\n",
      "findfont: Font family 'gillsans' not found.\n",
      "findfont: Font family 'gillsans' not found.\n",
      "findfont: Font family 'gillsans' not found.\n",
      "findfont: Font family 'gillsans' not found.\n",
      "findfont: Font family 'gillsans' not found.\n",
      "findfont: Font family 'gillsans' not found.\n",
      "findfont: Font family 'gillsans' not found.\n",
      "findfont: Font family 'gillsans' not found.\n",
      "findfont: Font family 'gillsans' not found.\n",
      "findfont: Font family 'gillsans' not found.\n",
      "findfont: Font family 'gillsans' not found.\n",
      "findfont: Font family 'gillsans' not found.\n",
      "findfont: Font family 'gillsans' not found.\n",
      "findfont: Font family 'gillsans' not found.\n",
      "findfont: Font family 'gillsans' not found.\n",
      "findfont: Font family 'gillsans' not found.\n",
      "findfont: Font family 'gillsans' not found.\n",
      "findfont: Font family 'gillsans' not found.\n",
      "findfont: Font family 'gillsans' not found.\n",
      "findfont: Font family 'gillsans' not found.\n",
      "findfont: Font family 'gillsans' not found.\n",
      "findfont: Font family 'gillsans' not found.\n",
      "findfont: Font family 'gillsans' not found.\n",
      "findfont: Font family 'gillsans' not found.\n",
      "findfont: Font family 'gillsans' not found.\n",
      "findfont: Font family 'gillsans' not found.\n",
      "findfont: Font family 'gillsans' not found.\n",
      "findfont: Font family 'gillsans' not found.\n",
      "findfont: Font family 'gillsans' not found.\n",
      "findfont: Font family 'gillsans' not found.\n",
      "findfont: Font family 'gillsans' not found.\n",
      "findfont: Font family 'gillsans' not found.\n",
      "findfont: Font family 'gillsans' not found.\n",
      "findfont: Font family 'gillsans' not found.\n",
      "findfont: Font family 'gillsans' not found.\n",
      "findfont: Font family 'gillsans' not found.\n",
      "findfont: Font family 'gillsans' not found.\n",
      "findfont: Font family 'gillsans' not found.\n",
      "findfont: Font family 'gillsans' not found.\n",
      "findfont: Font family 'gillsans' not found.\n",
      "findfont: Font family 'gillsans' not found.\n",
      "findfont: Font family 'gillsans' not found.\n",
      "findfont: Font family 'gillsans' not found.\n",
      "findfont: Font family 'gillsans' not found.\n",
      "findfont: Font family 'gillsans' not found.\n",
      "findfont: Font family 'gillsans' not found.\n",
      "findfont: Font family 'gillsans' not found.\n",
      "findfont: Font family 'gillsans' not found.\n"
     ]
    },
    {
     "data": {
      "image/png": "[encoded data removed]",
      "text/plain": [
       "<Figure size 640x480 with 1 Axes>"
      ]
     },
     "metadata": {},
     "output_type": "display_data"
    }
   ],
   "source": [
    "plot_sparsity(C_bernoulli, C_gauss, C_laplace, threshold)"
   ]
  },
  {
   "cell_type": "markdown",
   "id": "c002988c",
   "metadata": {},
   "source": [
    "## Maximum Value"
   ]
  },
  {
   "cell_type": "code",
   "execution_count": 34,
   "id": "c76ea057",
   "metadata": {},
   "outputs": [
    {
     "name": "stdout",
     "output_type": "stream",
     "text": [
      "Max value for Bernoulli is 0.51\n",
      "Max value for Gauss is 0.28\n",
      "Max value for Laplace is 0.53\n"
     ]
    }
   ],
   "source": [
    "print(\"Max value for Bernoulli is {:.2f}\".format(np.abs(C_bernoulli).max()))\n",
    "print(\"Max value for Gauss is {:.2f}\".format(np.abs(C_gauss).max()))\n",
    "print(\"Max value for Laplace is {:.2f}\".format(np.abs(C_laplace).max()))"
   ]
  },
  {
   "cell_type": "markdown",
   "id": "323f8790",
   "metadata": {},
   "source": [
    "## Contrast ratio"
   ]
  },
  {
   "cell_type": "code",
   "execution_count": 35,
   "id": "8af3f93d",
   "metadata": {},
   "outputs": [
    {
     "name": "stdout",
     "output_type": "stream",
     "text": [
      "Constrast ratio for Bernoulli is 2.50\n",
      "Constrast ratio for Gauss is 1.19\n",
      "Constrast ratio for Laplace is 1.33\n"
     ]
    }
   ],
   "source": [
    "def contrast_ratio(random_vector, eps):\n",
    "    sum_of_nonzero = np.where(np.abs(random_vector) > eps, np.abs(random_vector), 0).sum()\n",
    "    num_of_nonzero = np.where(np.abs(random_vector) > eps, 1, 0).sum()\n",
    "\n",
    "    return sum_of_nonzero / (num_of_nonzero * eps)\n",
    "\n",
    "print(\"Constrast ratio for Bernoulli is {:.2f}\".format(contrast_ratio(C_bernoulli, threshold)))\n",
    "print(\"Constrast ratio for Gauss is {:.2f}\".format(contrast_ratio(C_gauss, threshold)))\n",
    "print(\"Constrast ratio for Laplace is {:.2f}\".format(contrast_ratio(C_laplace, threshold)))"
   ]
  },
  {
   "cell_type": "markdown",
   "id": "f82435f6",
   "metadata": {},
   "source": [
    "## SNR"
   ]
  },
  {
   "cell_type": "code",
   "execution_count": 36,
   "id": "131b6217",
   "metadata": {},
   "outputs": [
    {
     "name": "stdout",
     "output_type": "stream",
     "text": [
      "SNR for Bernoulli is 3.40\n",
      "SNR for Gauss is 0.38\n",
      "SNR for Laplace is 0.73\n"
     ]
    }
   ],
   "source": [
    "def SNR(random_vector, eps, DB=False):\n",
    "    signal_power = np.where(np.abs(random_vector) > eps, np.abs(random_vector) ** 2, 0).sum()\n",
    "    noise_power = np.where(np.abs(random_vector) < eps, np.abs(random_vector) ** 2, 0).sum()\n",
    "\n",
    "    if DB:\n",
    "        return 10 * np.log10(signal_power / noise_power)\n",
    "    \n",
    "    return signal_power / noise_power\n",
    "\n",
    "print(\"SNR for Bernoulli is {:.2f}\".format(SNR(C_bernoulli, threshold)))\n",
    "print(\"SNR for Gauss is {:.2f}\".format(SNR(C_gauss, threshold)))\n",
    "print(\"SNR for Laplace is {:.2f}\".format(SNR(C_laplace, threshold)))"
   ]
  }
 ],
 "metadata": {
  "kernelspec": {
   "display_name": "sparserc",
   "language": "python",
   "name": "python3"
  },
  "language_info": {
   "codemirror_mode": {
    "name": "ipython",
    "version": 3
   },
   "file_extension": ".py",
   "mimetype": "text/x-python",
   "name": "python",
   "nbconvert_exporter": "python",
   "pygments_lexer": "ipython3",
   "version": "3.9.7"
  }
 },
 "nbformat": 4,
 "nbformat_minor": 5
}
